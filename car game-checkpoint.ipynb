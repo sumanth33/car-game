{
 "cells": [
  {
   "cell_type": "code",
   "execution_count": null,
   "metadata": {},
   "outputs": [],
   "source": [
    "started = False\n",
    "command = input(\">>  \")\n",
    "while True :\n",
    "    \n",
    "    if command ==\"start\" :\n",
    "        if started  :\n",
    "            print(\" car has already started \")\n",
    "        else :\n",
    "            print(\"start the car..\")\n",
    "        break\n",
    "    elif command == \"stop\" :\n",
    "        if not started  :\n",
    "            print(\" car has not started \")\n",
    "        else :\n",
    "            print(\"stop the car\")\n",
    "        break\n",
    "    elif command == \"help\" :\n",
    "        print (''' \n",
    "start>> start the car..\n",
    "stop>> stop the car\n",
    "quit>> exit the game ''')\n",
    "    else :\n",
    "        pass\n",
    "    "
   ]
  },
  {
   "cell_type": "code",
   "execution_count": null,
   "metadata": {},
   "outputs": [],
   "source": []
  },
  {
   "cell_type": "code",
   "execution_count": null,
   "metadata": {},
   "outputs": [],
   "source": []
  },
  {
   "cell_type": "code",
   "execution_count": null,
   "metadata": {},
   "outputs": [],
   "source": []
  },
  {
   "cell_type": "code",
   "execution_count": null,
   "metadata": {},
   "outputs": [],
   "source": []
  }
 ],
 "metadata": {
  "kernelspec": {
   "display_name": "Python 3",
   "language": "python",
   "name": "python3"
  },
  "language_info": {
   "codemirror_mode": {
    "name": "ipython",
    "version": 3
   },
   "file_extension": ".py",
   "mimetype": "text/x-python",
   "name": "python",
   "nbconvert_exporter": "python",
   "pygments_lexer": "ipython3",
   "version": "3.7.6"
  }
 },
 "nbformat": 4,
 "nbformat_minor": 4
}
